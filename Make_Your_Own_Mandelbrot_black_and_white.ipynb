{
  "nbformat": 4,
  "nbformat_minor": 0,
  "metadata": {
    "colab": {
      "provenance": [],
      "authorship_tag": "ABX9TyMpF3KHcKTjiJbfE5fKU2yI",
      "include_colab_link": true
    },
    "kernelspec": {
      "name": "python3",
      "display_name": "Python 3"
    },
    "language_info": {
      "name": "python"
    }
  },
  "cells": [
    {
      "cell_type": "markdown",
      "metadata": {
        "id": "view-in-github",
        "colab_type": "text"
      },
      "source": [
        "<a href=\"https://colab.research.google.com/github/rzeta0/From-Primes-To-Riemann/blob/main/Make_Your_Own_Mandelbrot_black_and_white.ipynb\" target=\"_parent\"><img src=\"https://colab.research.google.com/assets/colab-badge.svg\" alt=\"Open In Colab\"/></a>"
      ]
    },
    {
      "cell_type": "markdown",
      "source": [
        "**Mandelbrot Set (black and white) **\n",
        "\n",
        "\"Make Your Own Mandelbrot\" Second Edition\n",
        "\n",
        "This work is licensed under CC BY-SA 4.0"
      ],
      "metadata": {
        "id": "l6-Oy0HkTEBh"
      }
    },
    {
      "cell_type": "code",
      "execution_count": 12,
      "metadata": {
        "id": "UnQ5M4g0S67d"
      },
      "outputs": [],
      "source": [
        "# import libraries\n",
        "\n",
        "import numpy as np\n",
        "import matplotlib.pyplot as plt"
      ]
    },
    {
      "cell_type": "code",
      "source": [
        "# number of pixels wide and high\n",
        "resolution = 1024\n",
        "\n",
        "# bottom left corner of square viewport\n",
        "bottom_left = complex(-2.25,-1.5)\n",
        "\n",
        "# width and height of square viewport\n",
        "size = 3\n",
        "\n",
        "# maximum iterations per test\n",
        "max_iter = 128"
      ],
      "metadata": {
        "id": "OM0BF1RYS5oQ"
      },
      "execution_count": 13,
      "outputs": []
    },
    {
      "cell_type": "code",
      "source": [
        "# create image as numpy arrray\n",
        "\n",
        "image = np.full( (resolution,resolution), 255, dtype=np.uint8)"
      ],
      "metadata": {
        "id": "9Rq8aBUXYPqm"
      },
      "execution_count": 14,
      "outputs": []
    },
    {
      "cell_type": "code",
      "source": [
        "# test each point in viewport for divergence\n",
        "\n",
        "for x in range(resolution):\n",
        "  for y in range(resolution):\n",
        "\n",
        "    # convert pixel grid location x,y to complex point c\n",
        "    c = bottom_left + (size * complex(x/(resolution-1), y/(resolution-1)))\n",
        "\n",
        "    # test for divergence\n",
        "    z = complex(0,0)\n",
        "    for iteration_count in range(1,max_iter+1):\n",
        "      z = (z*z) + c\n",
        "      if (abs(z)>2): break\n",
        "      pass\n",
        "\n",
        "    # colour pixel according to divergence\n",
        "    if (iteration_count == max_iter):\n",
        "      image[y,x] = 0\n",
        "      pass\n",
        "\n",
        "    pass # end y loop\n",
        "  pass # end x loop"
      ],
      "metadata": {
        "id": "bQComEA3fVNw"
      },
      "execution_count": 15,
      "outputs": []
    },
    {
      "cell_type": "code",
      "source": [
        "# render image\n",
        "\n",
        "# create figure of size 6x6\n",
        "fig, ax = plt.subplots()\n",
        "fig.set_size_inches(6,6)\n",
        "\n",
        "# turn of axis ticks\n",
        "ax.set_xticks([])\n",
        "ax.set_yticks([])\n",
        "\n",
        "# grey outline\n",
        "grey_value = str(0.7)\n",
        "ax.spines['bottom'].set_color(grey_value)\n",
        "ax.spines['top'].set_color(grey_value)\n",
        "ax.spines['right'].set_color(grey_value)\n",
        "ax.spines['left'].set_color(grey_value)\n",
        "\n",
        "# plot image array, using grey colour palette\n",
        "ax.imshow(image, cmap='gray', origin=\"lower\")\n",
        "\n",
        "# export the figure as a PNG image file\n",
        "plt.savefig(\"mandelbrot_bw.png\", dpi=600, format=\"png\")\n",
        "\n",
        "plt.show()"
      ],
      "metadata": {
        "colab": {
          "base_uri": "https://localhost:8080/",
          "height": 499
        },
        "id": "_fSLMufar63W",
        "outputId": "afd2df2b-bea9-42a1-b9a3-a2c458b7bc03"
      },
      "execution_count": 16,
      "outputs": [
        {
          "output_type": "display_data",
          "data": {
            "text/plain": [
              "<Figure size 600x600 with 1 Axes>"
            ],
            "image/png": "[encoded data removed]"
          },
          "metadata": {}
        }
      ]
    },
    {
      "cell_type": "code",
      "source": [],
      "metadata": {
        "id": "hrk6nOaoFmrt"
      },
      "execution_count": 16,
      "outputs": []
    }
  ]
}