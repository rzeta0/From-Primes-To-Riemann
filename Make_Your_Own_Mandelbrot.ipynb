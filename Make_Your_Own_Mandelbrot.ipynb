{
  "nbformat": 4,
  "nbformat_minor": 0,
  "metadata": {
    "colab": {
      "provenance": [],
      "authorship_tag": "ABX9TyOWnVgrDcunL6U3ZCAPk4Ta",
      "include_colab_link": true
    },
    "kernelspec": {
      "name": "python3",
      "display_name": "Python 3"
    },
    "language_info": {
      "name": "python"
    }
  },
  "cells": [
    {
      "cell_type": "markdown",
      "metadata": {
        "id": "view-in-github",
        "colab_type": "text"
      },
      "source": [
        "<a href=\"https://colab.research.google.com/github/rzeta0/From-Primes-To-Riemann/blob/main/Make_Your_Own_Mandelbrot.ipynb\" target=\"_parent\"><img src=\"https://colab.research.google.com/assets/colab-badge.svg\" alt=\"Open In Colab\"/></a>"
      ]
    },
    {
      "cell_type": "markdown",
      "source": [
        "**Mandelbrot Set**\n",
        "\n",
        "\"Make Your Own Mandelbrot\" Second Edition\n",
        "\n",
        "This work is licensed under CC BY-SA 4.0"
      ],
      "metadata": {
        "id": "l6-Oy0HkTEBh"
      }
    },
    {
      "cell_type": "code",
      "execution_count": 1,
      "metadata": {
        "id": "UnQ5M4g0S67d"
      },
      "outputs": [],
      "source": [
        "# import libraries\n",
        "\n",
        "import numpy as np\n",
        "import matplotlib.pyplot as plt"
      ]
    },
    {
      "cell_type": "code",
      "source": [
        "# number of pixels wide and high\n",
        "\n",
        "resolution = 1024\n",
        "\n",
        "# bottom left corner\n",
        "\n",
        "bottom_left = complex(-2.25,-1.5)\n",
        "\n",
        "# width and height of square viewport\n",
        "\n",
        "size = 3\n",
        "\n",
        "# maximum iterations per test\n",
        "\n",
        "max_iter = 128"
      ],
      "metadata": {
        "id": "OM0BF1RYS5oQ"
      },
      "execution_count": null,
      "outputs": []
    }
  ]
}