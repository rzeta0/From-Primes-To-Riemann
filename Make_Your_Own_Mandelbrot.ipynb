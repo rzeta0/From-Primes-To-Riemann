{
  "nbformat": 4,
  "nbformat_minor": 0,
  "metadata": {
    "colab": {
      "provenance": [],
      "authorship_tag": "ABX9TyMDHF7cVLKPGGUdcGq1fV1D",
      "include_colab_link": true
    },
    "kernelspec": {
      "name": "python3",
      "display_name": "Python 3"
    },
    "language_info": {
      "name": "python"
    }
  },
  "cells": [
    {
      "cell_type": "markdown",
      "metadata": {
        "id": "view-in-github",
        "colab_type": "text"
      },
      "source": [
        "<a href=\"https://colab.research.google.com/github/rzeta0/From-Primes-To-Riemann/blob/main/Make_Your_Own_Mandelbrot.ipynb\" target=\"_parent\"><img src=\"https://colab.research.google.com/assets/colab-badge.svg\" alt=\"Open In Colab\"/></a>"
      ]
    },
    {
      "cell_type": "markdown",
      "source": [
        "**Mandelbrot Set**\n",
        "\n",
        "\"Make Your Own Mandelbrot\" Second Edition\n",
        "\n",
        "This work is licensed under CC BY-SA 4.0"
      ],
      "metadata": {
        "id": "l6-Oy0HkTEBh"
      }
    },
    {
      "cell_type": "code",
      "execution_count": 31,
      "metadata": {
        "id": "UnQ5M4g0S67d"
      },
      "outputs": [],
      "source": [
        "# import libraries\n",
        "\n",
        "import numpy as np\n",
        "import matplotlib.pyplot as plt"
      ]
    },
    {
      "cell_type": "code",
      "source": [
        "# number of pixels wide and high\n",
        "resolution = 1024\n",
        "\n",
        "# bottom left corner of square viewport\n",
        "bottom_left = complex(-2.25,-1.5)\n",
        "\n",
        "# width and height of square viewport\n",
        "size = 3\n",
        "\n",
        "# maximum iterations per test\n",
        "max_iter = 128"
      ],
      "metadata": {
        "id": "OM0BF1RYS5oQ"
      },
      "execution_count": 32,
      "outputs": []
    },
    {
      "cell_type": "code",
      "source": [
        "# create image as numpy arrray\n",
        "\n",
        "image = np.full( (resolution,resolution), 255, dtype=np.uint8)"
      ],
      "metadata": {
        "id": "9Rq8aBUXYPqm"
      },
      "execution_count": 33,
      "outputs": []
    },
    {
      "cell_type": "code",
      "source": [
        "# test each point in viewport for divergence\n",
        "\n",
        "for x in range(resolution):\n",
        "  for y in range(resolution):\n",
        "\n",
        "    # convert pixel grid location x,y to complex point c\n",
        "    c = bottom_left + (size * complex(x/resolution, y/resolution))\n",
        "\n",
        "    # test for divergence\n",
        "\n",
        "    z = complex(0,0)\n",
        "\n",
        "    for iteration_count in range(1,max_iter+1):\n",
        "      z = (z*z) + c\n",
        "      if (abs(z)>2): break\n",
        "      pass\n",
        "\n",
        "    pass # end y loop\n",
        "  pass # end x loop"
      ],
      "metadata": {
        "id": "bQComEA3fVNw"
      },
      "execution_count": 34,
      "outputs": []
    },
    {
      "cell_type": "code",
      "source": [],
      "metadata": {
        "id": "_fSLMufar63W"
      },
      "execution_count": null,
      "outputs": []
    }
  ]
}